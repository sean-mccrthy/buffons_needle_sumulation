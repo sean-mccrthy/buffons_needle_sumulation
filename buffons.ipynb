{
  "cells": [
    {
      "cell_type": "code",
      "execution_count": null,
      "metadata": {
        "trusted": true
      },
      "outputs": [],
      "source": [
        "import numpy as np\n",
        "import matplotlib.pyplot as plt\n",
        "from matplotlib.collections import LineCollection\n",
        "\n",
        "def simulate_buffons_needle(W, H, L, rep):\n",
        "    ycoords = np.arange(0, H+0.00, 1)\n",
        "    for y0 in ycoords:\n",
        "        plt.axhline(y = y0, color = 'k', alpha=0.7, linestyle='-')\n",
        "    \n",
        "    x1 = np.random.uniform(0 + L, W - L, rep) \n",
        "    y1 = np.random.uniform(0 + L, H - L, rep) \n",
        "    theta = np.random.uniform(0, 2*np.pi, rep)         \n",
        "    \n",
        "    x2 = x1 + L * np.cos(theta) \n",
        "    y2 = y1 + L * np.sin(theta) \n",
        "\n",
        "    lines = []\n",
        "    for i in range(rep):\n",
        "        lines.append([(x1[i], y1[i]), (x2[i], y2[i])])\n",
        "\n",
        "    colors = plt.rcParams['axes.prop_cycle'].by_key()['color']\n",
        "    lc = LineCollection(lines, color=colors)\n",
        "    ax = plt.gca()\n",
        "    ax.add_collection(lc)\n",
        "    ax.autoscale()\n",
        "    plt.title(f\"L = {L:.3f}\")\n",
        "\n",
        "    count = 0\n",
        "    for i in range(rep):\n",
        "        if int(y1[i]) != int(y2[i]):\n",
        "            count += 1\n",
        "    return count / rep\n",
        "\n",
        "W, H, L, rep = 20, 16, 5/6, 3408\n",
        "p = simulate_buffons_needle(W, H, L, rep)\n",
        "\n",
        "estimated_pi = (2 * L) / p\n",
        "print(f\"p = {p:.6f}, estimated pi = {estimated_pi:.6f}\")"
      ]
    },
    {
      "cell_type": "code",
      "execution_count": null,
      "metadata": {
        "trusted": true
      },
      "outputs": [],
      "source": []
    }
  ],
  "metadata": {
    "kernelspec": {
      "display_name": "Python (Pyodide)",
      "language": "python",
      "name": "python"
    },
    "language_info": {
      "codemirror_mode": {
        "name": "python",
        "version": 3
      },
      "file_extension": ".py",
      "mimetype": "text/x-python",
      "name": "python",
      "nbconvert_exporter": "python",
      "pygments_lexer": "ipython3",
      "version": "3.8"
    }
  },
  "nbformat": 4,
  "nbformat_minor": 4
}
